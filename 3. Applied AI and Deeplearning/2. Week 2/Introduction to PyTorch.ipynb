{
 "cells": [
  {
   "cell_type": "markdown",
   "metadata": {
    "collapsed": true
   },
   "source": [
    "\n",
    "Introduction to PyTorch\n",
    "============\n",
    "\n",
    "PyTorch's tensor library\n",
    "------------------------------------\n",
    "\n",
    "The most of PyTorch operations are running on <b>tensors</b>.\n",
    "A tensor is an multidimensional array.\n",
    "Lets have a look on some basic tensor operations.\n",
    "But first, lets import some important PyTorch libraries:\n",
    "- <b>torch</b> - a Tensor library similar to NumPy, with strong GPU support\n",
    "- <b>torch.autograd</b> - a \"tape-based\" (about this - later on) automatic differentiation library\n",
    "- <b>torch.nn</b> - a neural networks library deeply integrated with autograd \n",
    "- <b>torch.optim</b> - an optimization package to be used with torch.nn with standard optimization methods such as SGD, RMSProp, LBFGS, Adam etc.\n",
    "\n",
    "\n",
    "We also set a seed to be able to reproduce the same results later."
   ]
  },
  {
   "cell_type": "code",
   "execution_count": 1,
   "metadata": {},
   "outputs": [
    {
     "data": {
      "text/plain": [
       "<torch._C.Generator at 0x7fc863709e10>"
      ]
     },
     "execution_count": 1,
     "metadata": {},
     "output_type": "execute_result"
    }
   ],
   "source": [
    "import torch\n",
    "import torch.autograd as autograd\n",
    "import torch.nn as nn\n",
    "import torch.optim as optim\n",
    "\n",
    "torch.manual_seed(123)"
   ]
  },
  {
   "cell_type": "markdown",
   "metadata": {},
   "source": [
    "Creating Tensors\n",
    "----------------\n",
    "\n",
    "Tensors can be created from Python lists with the <b>torch.Tensor()</b> function."
   ]
  },
  {
   "cell_type": "code",
   "execution_count": 2,
   "metadata": {},
   "outputs": [
    {
     "name": "stdout",
     "output_type": "stream",
     "text": [
      "<class 'list'>\n",
      "<class 'torch.Tensor'>\n",
      "tensor([1, 2, 3])\n"
     ]
    }
   ],
   "source": [
    "# Create a torch.Tensor object from python list\n",
    "v=[1,2,3]\n",
    "print(type(v))\n",
    "\n",
    "v_tensor=torch.tensor(v)\n",
    "print(type(v_tensor))\n",
    "print(v_tensor)"
   ]
  },
  {
   "cell_type": "code",
   "execution_count": 3,
   "metadata": {},
   "outputs": [
    {
     "name": "stdout",
     "output_type": "stream",
     "text": [
      "tensor([[1, 2, 3],\n",
      "        [4, 5, 6]])\n"
     ]
    }
   ],
   "source": [
    "# Create a torch.Tensor object of size 2x3 from 2x3 matrix\n",
    "m2x3=[[1,2,3], [4,5,6]]\n",
    "m2x3_tensor=torch.tensor(m2x3)\n",
    "print(m2x3_tensor)"
   ]
  },
  {
   "cell_type": "code",
   "execution_count": 4,
   "metadata": {},
   "outputs": [
    {
     "name": "stdout",
     "output_type": "stream",
     "text": [
      "tensor([[[ 1,  2,  3],\n",
      "         [ 4,  5,  6],\n",
      "         [ 7,  8,  9]],\n",
      "\n",
      "        [[10, 11, 12],\n",
      "         [13, 14, 15],\n",
      "         [16, 17, 18]],\n",
      "\n",
      "        [[19, 20, 21],\n",
      "         [22, 23, 24],\n",
      "         [25, 26, 27]]])\n"
     ]
    }
   ],
   "source": [
    "# Create a 3D torch.Tensor object of size 3x3x3.\n",
    "m3x3x3=[[[1,2,3],[4,5,6],[7,8,9]],\n",
    "       [[10,11,12],[13,14,15],[16,17,18]],\n",
    "       [[19,20,21],[22,23,24],[25,26,27]]]\n",
    "m3x3x3_tensor=torch.tensor(m3x3x3)\n",
    "print(m3x3x3_tensor)"
   ]
  },
  {
   "cell_type": "code",
   "execution_count": 5,
   "metadata": {},
   "outputs": [
    {
     "name": "stdout",
     "output_type": "stream",
     "text": [
      "tensor([[[[ 3.3737e-01, -1.7778e-01, -3.0353e-01],\n",
      "          [-5.8801e-01,  3.4861e-01,  6.6034e-01],\n",
      "          [-2.1964e-01, -3.7917e-01,  7.6711e-01]],\n",
      "\n",
      "         [[-1.1925e+00,  6.9835e-01, -1.4097e+00],\n",
      "          [ 1.7938e-01,  1.8951e+00,  4.9545e-01],\n",
      "          [ 2.6920e-01, -7.7020e-02, -1.0205e+00]],\n",
      "\n",
      "         [[-1.6896e-01,  9.1776e-01,  1.5810e+00],\n",
      "          [ 1.3010e+00,  1.2753e+00, -2.0095e-01],\n",
      "          [ 4.9647e-01, -1.5723e+00,  9.6657e-01]]],\n",
      "\n",
      "\n",
      "        [[[-1.1481e+00, -1.1589e+00,  3.2547e-01],\n",
      "          [-6.3151e-01, -2.8400e+00, -1.3250e+00],\n",
      "          [ 1.7843e-01, -2.1338e+00,  1.0524e+00]],\n",
      "\n",
      "         [[-3.8848e-01, -9.3435e-01, -4.9914e-01],\n",
      "          [-1.0867e+00,  8.8054e-01,  1.5542e+00],\n",
      "          [ 6.2662e-01, -1.7549e-01,  9.8284e-02]],\n",
      "\n",
      "         [[-9.3507e-02,  2.6621e-01, -5.8504e-01],\n",
      "          [ 8.7684e-01,  1.6221e+00, -1.4779e+00],\n",
      "          [ 1.1331e+00, -1.2203e+00,  1.3139e+00]]],\n",
      "\n",
      "\n",
      "        [[[ 1.0533e+00,  1.3881e-01,  2.2473e+00],\n",
      "          [-8.0364e-01, -2.8084e-01,  7.6968e-01],\n",
      "          [-6.5956e-01, -7.9793e-01,  1.8383e-01]],\n",
      "\n",
      "         [[ 2.2935e-01,  5.1463e-01,  9.9376e-01],\n",
      "          [-2.5873e-01, -1.0826e+00, -4.4382e-02],\n",
      "          [ 1.6236e+00, -2.3229e+00,  1.0878e+00]],\n",
      "\n",
      "         [[ 6.7155e-01,  6.9330e-01, -9.4872e-01],\n",
      "          [-7.6507e-02, -1.5264e-01,  1.1674e-01],\n",
      "          [ 4.4026e-01, -1.4465e+00,  2.5529e-01]]],\n",
      "\n",
      "\n",
      "        [[[-5.4963e-01,  1.0042e+00,  8.2723e-01],\n",
      "          [-3.9481e-01,  4.8923e-01, -2.1681e-01],\n",
      "          [-1.7472e+00, -1.6025e+00, -1.0764e+00]],\n",
      "\n",
      "         [[ 9.0315e-01, -7.2184e-01,  1.2311e+00],\n",
      "          [-1.0973e+00, -9.6690e-01,  6.7125e-01],\n",
      "          [-9.4053e-01, -4.6806e-01,  1.0322e+00]],\n",
      "\n",
      "         [[-2.8300e-01,  1.1124e+00, -4.1684e-01],\n",
      "          [-1.7106e+00, -3.2902e-01,  1.3966e+00],\n",
      "          [-9.9491e-01, -1.5822e-03,  1.2471e+00]]]])\n"
     ]
    }
   ],
   "source": [
    "#Create a 4Dtensor from random data and given dimensions (in this case 3x4x5x6) with torch.randn()\n",
    "m4x3x3x3_tensor=torch.randn(4,3,3,3)\n",
    "m4x3x3x3_tensor.shape\n",
    "print(m4x3x3x3_tensor)"
   ]
  },
  {
   "cell_type": "markdown",
   "metadata": {},
   "source": [
    "What is a multidimensional tensor?\n",
    "-------------------\n",
    "Since we frequently deal with n > 3 dimensional tensors, its understanding is very important. \n",
    "The best way to think of a higher (n) dimensional object (and tensor in particular) is as of a container which keeps a series of n-1 dimensional objects \"inside\" of it. We can \"pull out\" these \"inner\" objects by indexing in to higher dimensional tensor container.\n",
    "Let's have a look on some examples:\n",
    "\n",
    "- For a vector v (dim(v)=1), indexing into it (\"pulling out of it\") returns its \"slice\" - a scalar s (dim(s)=0). \n",
    "\n",
    "- For a matrix, indexing into it returns its \"slice\" - a (row or column) vector. \n",
    "\n",
    "- 3D tensor can be seen as a cube or 3D rectangular consisting of horizontally \"stacked\" matrices. So if we index into a such tensor it will give us its slice which is a matrix!\n",
    "\n",
    "- We can't easily visualize 5D (or n-D) tensors, but the idea is actually the same. If we index in to them, we will pull out an object of dimension n-1.\n",
    "\n",
    "- E.g. a 4D tensor can be seen as a list of cubes or 3D reactangulars. If we index in to a 4D tensor, we will get 3D rectangulars.\n",
    "\n",
    "![IMG_0120.png](attachment:IMG_0120.png)"
   ]
  },
  {
   "cell_type": "code",
   "execution_count": 6,
   "metadata": {},
   "outputs": [
    {
     "name": "stdout",
     "output_type": "stream",
     "text": [
      "tensor(1)\n",
      "tensor([1, 2, 3])\n",
      "tensor([[1, 2, 3],\n",
      "        [4, 5, 6],\n",
      "        [7, 8, 9]])\n",
      "tensor([[[ 0.3374, -0.1778, -0.3035],\n",
      "         [-0.5880,  0.3486,  0.6603],\n",
      "         [-0.2196, -0.3792,  0.7671]],\n",
      "\n",
      "        [[-1.1925,  0.6984, -1.4097],\n",
      "         [ 0.1794,  1.8951,  0.4954],\n",
      "         [ 0.2692, -0.0770, -1.0205]],\n",
      "\n",
      "        [[-0.1690,  0.9178,  1.5810],\n",
      "         [ 1.3010,  1.2753, -0.2010],\n",
      "         [ 0.4965, -1.5723,  0.9666]]])\n"
     ]
    }
   ],
   "source": [
    "# Index into v_tensor and get a scalar\n",
    "print(v_tensor[0])\n",
    "\n",
    "# Index into m2x3_tensor and get a vector\n",
    "print(m2x3_tensor[0])\n",
    "\n",
    "# Index into m3x3x3_tensor and get a matrix\n",
    "print(m3x3x3_tensor[0])\n",
    "\n",
    "# Index into m4x3x3x3_tensor and get a 3D rectangular of size 4x5x6\n",
    "print(m4x3x3x3_tensor[0])"
   ]
  },
  {
   "cell_type": "markdown",
   "metadata": {},
   "source": [
    "Operations with Tensors\n",
    "----------------------\n",
    "\n",
    "You can operate on tensors in the ways you would expect.\n",
    "See the documentation <http://pytorch.org/docs/torch.html> for a complete list of operations."
   ]
  },
  {
   "cell_type": "markdown",
   "metadata": {},
   "source": [
    "Simple mathematical operations: <b>Addition, Multiplication</b>\n",
    "                                     "
   ]
  },
  {
   "cell_type": "code",
   "execution_count": 7,
   "metadata": {},
   "outputs": [
    {
     "name": "stdout",
     "output_type": "stream",
     "text": [
      "tensor([1, 2, 3])\n",
      "tensor([4, 5, 6])\n",
      "tensor(32)\n"
     ]
    }
   ],
   "source": [
    "x=torch.tensor([1,2,3])\n",
    "y=torch.tensor([4,5,6])\n",
    "\n",
    "print(x)\n",
    "print(y)\n",
    "\n",
    "w=torch.matmul(x,y)\n",
    "print(w)"
   ]
  },
  {
   "cell_type": "markdown",
   "metadata": {},
   "source": [
    "Helpful operation: <b>Concatenation</b>"
   ]
  },
  {
   "cell_type": "code",
   "execution_count": 8,
   "metadata": {},
   "outputs": [
    {
     "name": "stdout",
     "output_type": "stream",
     "text": [
      "tensor([[ 0.5485, -1.6063,  0.7281,  0.6609,  0.2391],\n",
      "        [ 0.0340,  0.1164, -0.9905,  0.5646,  0.0686]])\n",
      "tensor([[-1.0035, -0.7874,  0.9840,  0.2045, -0.3604],\n",
      "        [ 1.2101, -1.0814,  0.0789,  0.2913, -0.5023],\n",
      "        [-0.9306,  0.9086, -0.7788, -1.4453,  0.7636]])\n",
      "tensor([[ 0.5485, -1.6063,  0.7281,  0.6609,  0.2391],\n",
      "        [ 0.0340,  0.1164, -0.9905,  0.5646,  0.0686],\n",
      "        [-1.0035, -0.7874,  0.9840,  0.2045, -0.3604],\n",
      "        [ 1.2101, -1.0814,  0.0789,  0.2913, -0.5023],\n",
      "        [-0.9306,  0.9086, -0.7788, -1.4453,  0.7636]])\n"
     ]
    }
   ],
   "source": [
    "# By default, it concatenates along the axis with 0 (rows). It's \"stacking\" the rows.\n",
    "x_1=torch.randn(2,5)\n",
    "print(x_1)\n",
    "\n",
    "y_1=torch.randn(3,5)\n",
    "print(y_1)\n",
    "\n",
    "z_1=torch.cat([x_1,y_1])\n",
    "print(z_1)"
   ]
  },
  {
   "cell_type": "code",
   "execution_count": 9,
   "metadata": {},
   "outputs": [
    {
     "name": "stdout",
     "output_type": "stream",
     "text": [
      "tensor([[-0.2469,  0.5857,  0.9906],\n",
      "        [ 0.0417, -1.1668,  1.3251],\n",
      "        [-0.7990,  0.6292, -1.2097]])\n",
      "tensor([[-2.1362, -0.1212, -0.1443,  0.9969,  0.5697],\n",
      "        [-0.4930,  0.3155, -0.2275, -1.7942,  1.0417],\n",
      "        [-0.2358, -0.3030,  0.4934, -0.2766,  0.2439]])\n",
      "tensor([[-0.2469,  0.5857,  0.9906, -2.1362, -0.1212, -0.1443,  0.9969,  0.5697],\n",
      "        [ 0.0417, -1.1668,  1.3251, -0.4930,  0.3155, -0.2275, -1.7942,  1.0417],\n",
      "        [-0.7990,  0.6292, -1.2097, -0.2358, -0.3030,  0.4934, -0.2766,  0.2439]])\n"
     ]
    }
   ],
   "source": [
    "# Concatenate columns:\n",
    "x_2=torch.randn(3,3)\n",
    "print(x_2)\n",
    "\n",
    "y_2=torch.randn(3,5)\n",
    "print(y_2)\n",
    "\n",
    "# second arg specifies which axis to concat along. Here we select 1 (columns). It's attaching the columns.\n",
    "z_2 = torch.cat([x_2, y_2], 1)\n",
    "print(z_2)"
   ]
  },
  {
   "cell_type": "markdown",
   "metadata": {},
   "source": [
    "Reshaping Tensors\n",
    "----------------\n",
    "\n",
    "We can use the <code>.view()</code> method to reshape a tensor. Often we will need to reshape our data before passing it\n",
    "to a neuronal network.\n",
    "\n",
    "Let's assume we have 64000 RGB images with the size of 28x28 pixels.\n",
    "We can define an array fo shape (64000, 3, 28, 28) to hold them, where 3 is number of color channels:"
   ]
  },
  {
   "cell_type": "code",
   "execution_count": 10,
   "metadata": {},
   "outputs": [
    {
     "name": "stdout",
     "output_type": "stream",
     "text": [
      "torch.Size([32, 2000, 3, 28, 28])\n"
     ]
    }
   ],
   "source": [
    "x=torch.randn(64000,3,28,28)\n",
    "\n",
    "# Now we want to add a batch dimension of size 32. We can then infer the second dimension by placing -1:\n",
    "x_reshaped=x.view(32,-1,3,28,28)\n",
    "\n",
    "print(x_reshaped.shape)"
   ]
  },
  {
   "cell_type": "markdown",
   "metadata": {},
   "source": [
    "Computation Graphs and Automatic Differentiation\n",
    "---------------------------------------------\n",
    "\n",
    "A computation graph is a specification of what parameters with which operations are involved in the computation to give the output. \n",
    "\n",
    "The fundamental class of Pytorch <code>autograd.Variable</code> keeps track of how it was created."
   ]
  },
  {
   "cell_type": "code",
   "execution_count": 11,
   "metadata": {},
   "outputs": [
    {
     "name": "stdout",
     "output_type": "stream",
     "text": [
      "tensor([1., 2., 3.])\n",
      "tensor([5., 7., 9.])\n"
     ]
    }
   ],
   "source": [
    "# Variables wrap tensor objects\n",
    "x = autograd.Variable(torch.Tensor([1, 2, 3]), requires_grad=True)\n",
    "\n",
    "# You can access the data with the .data attribute\n",
    "print(x.data)\n",
    "\n",
    "y=autograd.Variable(torch.Tensor([4,5,6]), requires_grad=True)\n",
    "\n",
    "# With autograd.Variable you can also perform all the same operations you did with tensors\n",
    "z=x+y\n",
    "print(z.data)"
   ]
  },
  {
   "cell_type": "code",
   "execution_count": 12,
   "metadata": {},
   "outputs": [
    {
     "name": "stdout",
     "output_type": "stream",
     "text": [
      "<AddBackward0 object at 0x7fc81e491c30>\n"
     ]
    }
   ],
   "source": [
    "#  w knows also that it's result of addition of z elements (AddBackward)\n",
    "operation = z.grad_fn\n",
    "print(operation)"
   ]
  },
  {
   "cell_type": "markdown",
   "metadata": {},
   "source": [
    "The autograd.Variable knows which operation has created it. But how does that help <b>compute a gradient</b>?"
   ]
  },
  {
   "cell_type": "code",
   "execution_count": 13,
   "metadata": {},
   "outputs": [
    {
     "name": "stdout",
     "output_type": "stream",
     "text": [
      "tensor(21., grad_fn=<SumBackward0>)\n",
      "<SumBackward0 object at 0x7fc81e65bfd0>\n"
     ]
    }
   ],
   "source": [
    "# Lets sum up all the entries in z\n",
    "s=z.sum()\n",
    "print(s)\n",
    "\n",
    "print(s.grad_fn)"
   ]
  },
  {
   "cell_type": "markdown",
   "metadata": {},
   "source": [
    "Gradient\n",
    "-------\n",
    "So now, what is the derivative of this sum with respect to the first component of x? Remember, that x is a tensor of 3 elements: $x = (x_0, x_1, x_2)$\n",
    "\n",
    "In math, we want a partial derivative of $s$ with respect to $x_0$: $\\frac{\\partial s}{\\partial x_0}$\n",
    "\n",
    "Well, $s$ knows that it was created as a $sum$ of the tensor $z$ elements $(z_0, z_1, z_2)$. $z$ knows\n",
    "that it was the sum $x + y$. So\n",
    "\n",
    "\\begin{align}s = \\overbrace{x_0 + y_0}^\\text{$z_0$} + \\overbrace{x_1 + y_1}^\\text{$z_1$} + \\overbrace{x_2 + y_2}^\\text{$z_2$}\\end{align}\n",
    "\n",
    "And so $s$ contains enough information to determine that the derivative of $s$ with respect to $x_0$ is 1!\n",
    "\n",
    "*Reminder:* If you compute the partial derivative with respekt to one variable, you handle all other variables as constants. Therefore they all $(x_1, x_2, y_0, y_1, y_2)$ get zeroes, and the derivative of $f(x_0) = x_0$ is 1."
   ]
  },
  {
   "cell_type": "markdown",
   "metadata": {},
   "source": [
    "First we need to run <b>backpropagation</b> and calculate gradients with respect to every variable.\n",
    "*Note:* if you run <code>backward</code> multiple times, the gradient will increment.\n",
    "That is because Pytorch *accumulates* the gradient into the <b>.grad\n",
    "property</b>, since for many models this is very convenient.\n",
    "Lets now have Pytorch compute the gradient, and see that we were right with our guess of 1:"
   ]
  },
  {
   "cell_type": "code",
   "execution_count": 14,
   "metadata": {},
   "outputs": [],
   "source": [
    "# calling .backward() on any variable will run backprop, starting from it.\n",
    "s.backward(retain_graph=True)"
   ]
  },
  {
   "cell_type": "code",
   "execution_count": 15,
   "metadata": {},
   "outputs": [
    {
     "name": "stdout",
     "output_type": "stream",
     "text": [
      "tensor([1., 2., 3.], requires_grad=True)\n",
      "tensor([4., 5., 6.], requires_grad=True)\n",
      "tensor([1., 1., 1.])\n",
      "tensor([1., 1., 1.])\n"
     ]
    }
   ],
   "source": [
    "print(x)\n",
    "print(y)\n",
    "print(x.grad)\n",
    "print(y.grad)"
   ]
  },
  {
   "cell_type": "markdown",
   "metadata": {},
   "source": [
    "How NOT to break the computational graph\n",
    "----------------------------------"
   ]
  },
  {
   "cell_type": "markdown",
   "metadata": {},
   "source": [
    "Let's create two torch tensors and add them up:"
   ]
  },
  {
   "cell_type": "code",
   "execution_count": 16,
   "metadata": {},
   "outputs": [
    {
     "name": "stdout",
     "output_type": "stream",
     "text": [
      "tensor([[-1.2116, -0.7564],\n",
      "        [-0.3584, -0.9658]])\n",
      "tensor([[ 1.0298,  0.3542],\n",
      "        [ 0.0929, -0.5416]])\n",
      "tensor([[-0.1818, -0.4022],\n",
      "        [-0.2654, -1.5074]])\n"
     ]
    }
   ],
   "source": [
    "x=torch.randn((2,2))\n",
    "y=torch.randn((2,2))\n",
    "\n",
    "print(x)\n",
    "print(y)\n",
    "\n",
    "# These are Tensor types, and backprop would not be possible\n",
    "z=x+y\n",
    "\n",
    "print(z)"
   ]
  },
  {
   "cell_type": "markdown",
   "metadata": {},
   "source": [
    "Now we wrap the torch tensors in <code>autograd.Variable</code>. The <code>var_z</code> contains the information for backpropagation:"
   ]
  },
  {
   "cell_type": "code",
   "execution_count": 17,
   "metadata": {},
   "outputs": [
    {
     "name": "stdout",
     "output_type": "stream",
     "text": [
      "<AddBackward0 object at 0x7fc81e490970>\n"
     ]
    }
   ],
   "source": [
    "var_x=autograd.Variable(x, requires_grad=True)\n",
    "var_y=autograd.Variable(y, requires_grad=True)\n",
    "\n",
    "# var_z contains enough information to compute gradients, as we saw above\n",
    "var_z=var_x+var_y\n",
    "print(var_z.grad_fn)"
   ]
  },
  {
   "cell_type": "markdown",
   "metadata": {},
   "source": [
    "But what happens if we extract the wrapped tensor object out of <code>var_z</code> and re-wrap the tensor in a new <code>autograd.Variable</code>?"
   ]
  },
  {
   "cell_type": "code",
   "execution_count": 18,
   "metadata": {},
   "outputs": [
    {
     "name": "stdout",
     "output_type": "stream",
     "text": [
      "None\n"
     ]
    }
   ],
   "source": [
    "var_z_data=var_z.data\n",
    "new_var_z=autograd.Variable(var_z_data)\n",
    "print(new_var_z.grad_fn)"
   ]
  },
  {
   "cell_type": "markdown",
   "metadata": {},
   "source": [
    "The variable chain is not existing anymore, since we have extracted only data and the whole operations chain was lost.\n",
    "If we try now to compute <code>backward</code> on <code>new_var_z</code>, it will throw an error:"
   ]
  },
  {
   "cell_type": "code",
   "execution_count": 19,
   "metadata": {},
   "outputs": [
    {
     "ename": "RuntimeError",
     "evalue": "element 0 of tensors does not require grad and does not have a grad_fn",
     "output_type": "error",
     "traceback": [
      "\u001b[0;31m---------------------------------------------------------------------------\u001b[0m",
      "\u001b[0;31mRuntimeError\u001b[0m                              Traceback (most recent call last)",
      "Input \u001b[0;32mIn [19]\u001b[0m, in \u001b[0;36m<cell line: 1>\u001b[0;34m()\u001b[0m\n\u001b[0;32m----> 1\u001b[0m \u001b[43mnew_var_z\u001b[49m\u001b[38;5;241;43m.\u001b[39;49m\u001b[43mbackward\u001b[49m\u001b[43m(\u001b[49m\u001b[43mretain_graph\u001b[49m\u001b[38;5;241;43m=\u001b[39;49m\u001b[38;5;28;43;01mTrue\u001b[39;49;00m\u001b[43m)\u001b[49m\n",
      "File \u001b[0;32m/opt/conda/envs/Python-3.10/lib/python3.10/site-packages/torch/_tensor.py:396\u001b[0m, in \u001b[0;36mTensor.backward\u001b[0;34m(self, gradient, retain_graph, create_graph, inputs)\u001b[0m\n\u001b[1;32m    387\u001b[0m \u001b[38;5;28;01mif\u001b[39;00m has_torch_function_unary(\u001b[38;5;28mself\u001b[39m):\n\u001b[1;32m    388\u001b[0m     \u001b[38;5;28;01mreturn\u001b[39;00m handle_torch_function(\n\u001b[1;32m    389\u001b[0m         Tensor\u001b[38;5;241m.\u001b[39mbackward,\n\u001b[1;32m    390\u001b[0m         (\u001b[38;5;28mself\u001b[39m,),\n\u001b[0;32m   (...)\u001b[0m\n\u001b[1;32m    394\u001b[0m         create_graph\u001b[38;5;241m=\u001b[39mcreate_graph,\n\u001b[1;32m    395\u001b[0m         inputs\u001b[38;5;241m=\u001b[39minputs)\n\u001b[0;32m--> 396\u001b[0m \u001b[43mtorch\u001b[49m\u001b[38;5;241;43m.\u001b[39;49m\u001b[43mautograd\u001b[49m\u001b[38;5;241;43m.\u001b[39;49m\u001b[43mbackward\u001b[49m\u001b[43m(\u001b[49m\u001b[38;5;28;43mself\u001b[39;49m\u001b[43m,\u001b[49m\u001b[43m \u001b[49m\u001b[43mgradient\u001b[49m\u001b[43m,\u001b[49m\u001b[43m \u001b[49m\u001b[43mretain_graph\u001b[49m\u001b[43m,\u001b[49m\u001b[43m \u001b[49m\u001b[43mcreate_graph\u001b[49m\u001b[43m,\u001b[49m\u001b[43m \u001b[49m\u001b[43minputs\u001b[49m\u001b[38;5;241;43m=\u001b[39;49m\u001b[43minputs\u001b[49m\u001b[43m)\u001b[49m\n",
      "File \u001b[0;32m/opt/conda/envs/Python-3.10/lib/python3.10/site-packages/torch/autograd/__init__.py:173\u001b[0m, in \u001b[0;36mbackward\u001b[0;34m(tensors, grad_tensors, retain_graph, create_graph, grad_variables, inputs)\u001b[0m\n\u001b[1;32m    168\u001b[0m     retain_graph \u001b[38;5;241m=\u001b[39m create_graph\n\u001b[1;32m    170\u001b[0m \u001b[38;5;66;03m# The reason we repeat same the comment below is that\u001b[39;00m\n\u001b[1;32m    171\u001b[0m \u001b[38;5;66;03m# some Python versions print out the first line of a multi-line function\u001b[39;00m\n\u001b[1;32m    172\u001b[0m \u001b[38;5;66;03m# calls in the traceback and some print out the last line\u001b[39;00m\n\u001b[0;32m--> 173\u001b[0m \u001b[43mVariable\u001b[49m\u001b[38;5;241;43m.\u001b[39;49m\u001b[43m_execution_engine\u001b[49m\u001b[38;5;241;43m.\u001b[39;49m\u001b[43mrun_backward\u001b[49m\u001b[43m(\u001b[49m\u001b[43m  \u001b[49m\u001b[38;5;66;43;03m# Calls into the C++ engine to run the backward pass\u001b[39;49;00m\n\u001b[1;32m    174\u001b[0m \u001b[43m    \u001b[49m\u001b[43mtensors\u001b[49m\u001b[43m,\u001b[49m\u001b[43m \u001b[49m\u001b[43mgrad_tensors_\u001b[49m\u001b[43m,\u001b[49m\u001b[43m \u001b[49m\u001b[43mretain_graph\u001b[49m\u001b[43m,\u001b[49m\u001b[43m \u001b[49m\u001b[43mcreate_graph\u001b[49m\u001b[43m,\u001b[49m\u001b[43m \u001b[49m\u001b[43minputs\u001b[49m\u001b[43m,\u001b[49m\n\u001b[1;32m    175\u001b[0m \u001b[43m    \u001b[49m\u001b[43mallow_unreachable\u001b[49m\u001b[38;5;241;43m=\u001b[39;49m\u001b[38;5;28;43;01mTrue\u001b[39;49;00m\u001b[43m,\u001b[49m\u001b[43m \u001b[49m\u001b[43maccumulate_grad\u001b[49m\u001b[38;5;241;43m=\u001b[39;49m\u001b[38;5;28;43;01mTrue\u001b[39;49;00m\u001b[43m)\u001b[49m\n",
      "\u001b[0;31mRuntimeError\u001b[0m: element 0 of tensors does not require grad and does not have a grad_fn"
     ]
    }
   ],
   "source": [
    "new_var_z.backward(retain_graph=True)"
   ]
  },
  {
   "cell_type": "markdown",
   "metadata": {},
   "source": [
    "CUDA\n",
    "----\n",
    "Check wether GPU accelaration with **CUDA** is available"
   ]
  },
  {
   "cell_type": "code",
   "execution_count": 20,
   "metadata": {},
   "outputs": [],
   "source": [
    "# let us run this cell only if CUDA is available\n",
    "\n",
    "if torch.cuda.is_available():\n",
    "    # creates a LongTensor and transfers it\n",
    "    # to GPU as torch.cuda.LongTensor\n",
    "    a=torch.LongTensor(10).fill_(3).cuda()\n",
    "    print(type(a))\n",
    "    \n",
    "    b=a.cpu()\n",
    "    # transfers it to CPU, back to\n",
    "    # being a torch.LongTensor"
   ]
  },
  {
   "cell_type": "markdown",
   "metadata": {},
   "source": [
    "Linear Model\n",
    "======="
   ]
  },
  {
   "cell_type": "code",
   "execution_count": 21,
   "metadata": {},
   "outputs": [],
   "source": [
    "import torch\n",
    "import torch.nn as nn\n",
    "from torch.autograd import Variable\n",
    "import numpy as np"
   ]
  },
  {
   "cell_type": "code",
   "execution_count": 22,
   "metadata": {},
   "outputs": [
    {
     "name": "stdout",
     "output_type": "stream",
     "text": [
      "[0, 1, 2, 3, 4, 5, 6, 7, 8, 9, 10, 11, 12, 13, 14, 15, 16, 17, 18, 19]\n",
      "(20, 1)\n",
      "[2, 7, 12, 17, 22, 27, 32, 37, 42, 47, 52, 57, 62, 67, 72, 77, 82, 87, 92, 97]\n",
      "(20, 1)\n"
     ]
    }
   ],
   "source": [
    "x = [i for i in range(20)] #list comprehention\n",
    "x_train = np.array(x, dtype=np.float32)\n",
    "x_train = x_train.reshape(-1, 1)\n",
    "print(x)\n",
    "print(x_train.shape)\n",
    "\n",
    "y = [(5*i + 2) for i in x] #list comprehention\n",
    "y_train = np.array(y, dtype=np.float32)\n",
    "y_train = y_train.reshape(-1, 1)\n",
    "print(y)\n",
    "print(y_train.shape)\n"
   ]
  },
  {
   "cell_type": "markdown",
   "metadata": {},
   "source": [
    "Create Model Class\n",
    "-----------------"
   ]
  },
  {
   "cell_type": "code",
   "execution_count": 23,
   "metadata": {},
   "outputs": [
    {
     "data": {
      "text/plain": [
       "LinearRegressor(\n",
       "  (linear): Linear(in_features=1, out_features=1, bias=True)\n",
       ")"
      ]
     },
     "execution_count": 23,
     "metadata": {},
     "output_type": "execute_result"
    }
   ],
   "source": [
    "\n",
    "class LinearRegressor(nn.Module):\n",
    "    def __init__(self, input_dim, output_dim):\n",
    "        super(LinearRegressor, self).__init__()\n",
    "        self.linear = nn.Linear(input_dim, output_dim)  \n",
    "    \n",
    "    def forward(self, x):\n",
    "        out = self.linear(x)\n",
    "        return out\n",
    "\n",
    "input_dim = 1\n",
    "output_dim = 1\n",
    "\n",
    "model = LinearRegressor(input_dim, output_dim)\n",
    "\n",
    "model"
   ]
  },
  {
   "cell_type": "markdown",
   "metadata": {},
   "source": [
    "Loss & Optimizer\n",
    "---------------"
   ]
  },
  {
   "cell_type": "code",
   "execution_count": 24,
   "metadata": {},
   "outputs": [
    {
     "data": {
      "text/plain": [
       "MSELoss()"
      ]
     },
     "execution_count": 24,
     "metadata": {},
     "output_type": "execute_result"
    }
   ],
   "source": [
    "loss_function = nn.MSELoss()\n",
    "\n",
    "\n",
    "optimizer = torch.optim.SGD(model.parameters(), lr=0.001)\n",
    "optimizer\n",
    "loss_function"
   ]
  },
  {
   "cell_type": "code",
   "execution_count": 25,
   "metadata": {},
   "outputs": [
    {
     "name": "stdout",
     "output_type": "stream",
     "text": [
      "epoch 1, loss 2877.345947265625\n",
      "epoch 2, loss 1625.35107421875\n",
      "epoch 3, loss 918.2175903320312\n",
      "epoch 4, loss 518.8246459960938\n",
      "epoch 5, loss 293.2452392578125\n",
      "epoch 6, loss 165.83644104003906\n",
      "epoch 7, loss 93.87519836425781\n",
      "epoch 8, loss 53.2308235168457\n",
      "epoch 9, loss 30.27443504333496\n",
      "epoch 10, loss 17.308353424072266\n",
      "epoch 11, loss 9.984807968139648\n",
      "epoch 12, loss 5.848206043243408\n",
      "epoch 13, loss 3.511596202850342\n",
      "epoch 14, loss 2.1916496753692627\n",
      "epoch 15, loss 1.4459121227264404\n",
      "epoch 16, loss 1.0244970321655273\n",
      "epoch 17, loss 0.7862521409988403\n",
      "epoch 18, loss 0.6514715552330017\n",
      "epoch 19, loss 0.5751251578330994\n",
      "epoch 20, loss 0.5317803621292114\n",
      "epoch 21, loss 0.5070769190788269\n",
      "epoch 22, loss 0.49290379881858826\n",
      "epoch 23, loss 0.4846774935722351\n",
      "epoch 24, loss 0.4798111319541931\n",
      "epoch 25, loss 0.47684136033058167\n",
      "epoch 26, loss 0.47494402527809143\n",
      "epoch 27, loss 0.473651260137558\n",
      "epoch 28, loss 0.47270339727401733\n",
      "epoch 29, loss 0.4719468057155609\n",
      "epoch 30, loss 0.47130054235458374\n",
      "epoch 31, loss 0.47071725130081177\n",
      "epoch 32, loss 0.47016778588294983\n",
      "epoch 33, loss 0.4696385860443115\n",
      "epoch 34, loss 0.46912193298339844\n",
      "epoch 35, loss 0.46861252188682556\n",
      "epoch 36, loss 0.4681053161621094\n",
      "epoch 37, loss 0.4676016867160797\n",
      "epoch 38, loss 0.46709999442100525\n",
      "epoch 39, loss 0.4666000306606293\n",
      "epoch 40, loss 0.46609917283058167\n",
      "epoch 41, loss 0.4656006395816803\n",
      "epoch 42, loss 0.46510156989097595\n",
      "epoch 43, loss 0.4646031856536865\n",
      "epoch 44, loss 0.4641071856021881\n",
      "epoch 45, loss 0.4636095464229584\n",
      "epoch 46, loss 0.46311336755752563\n",
      "epoch 47, loss 0.46261781454086304\n",
      "epoch 48, loss 0.4621223509311676\n",
      "epoch 49, loss 0.4616282880306244\n",
      "epoch 50, loss 0.46113425493240356\n",
      "epoch 51, loss 0.46064114570617676\n",
      "epoch 52, loss 0.46014657616615295\n",
      "epoch 53, loss 0.45965489745140076\n",
      "epoch 54, loss 0.4591628909111023\n",
      "epoch 55, loss 0.458670437335968\n",
      "epoch 56, loss 0.45818060636520386\n",
      "epoch 57, loss 0.45768970251083374\n",
      "epoch 58, loss 0.45720013976097107\n",
      "epoch 59, loss 0.45671018958091736\n",
      "epoch 60, loss 0.45622244477272034\n",
      "epoch 61, loss 0.4557340145111084\n",
      "epoch 62, loss 0.45524510741233826\n",
      "epoch 63, loss 0.4547593593597412\n",
      "epoch 64, loss 0.45427218079566956\n",
      "epoch 65, loss 0.4537857174873352\n",
      "epoch 66, loss 0.45330023765563965\n",
      "epoch 67, loss 0.4528152048587799\n",
      "epoch 68, loss 0.45233049988746643\n",
      "epoch 69, loss 0.4518463611602783\n",
      "epoch 70, loss 0.4513624608516693\n",
      "epoch 71, loss 0.45088034868240356\n",
      "epoch 72, loss 0.45039796829223633\n",
      "epoch 73, loss 0.44991427659988403\n",
      "epoch 74, loss 0.4494333267211914\n",
      "epoch 75, loss 0.4489530026912689\n",
      "epoch 76, loss 0.4484717845916748\n",
      "epoch 77, loss 0.4479919373989105\n",
      "epoch 78, loss 0.4475116729736328\n",
      "epoch 79, loss 0.44703418016433716\n",
      "epoch 80, loss 0.44655489921569824\n",
      "epoch 81, loss 0.4460776746273041\n",
      "epoch 82, loss 0.4456000328063965\n",
      "epoch 83, loss 0.4451228678226471\n",
      "epoch 84, loss 0.44464579224586487\n",
      "epoch 85, loss 0.44416967034339905\n",
      "epoch 86, loss 0.4436960220336914\n",
      "epoch 87, loss 0.4432210326194763\n",
      "epoch 88, loss 0.44274669885635376\n",
      "epoch 89, loss 0.4422732889652252\n",
      "epoch 90, loss 0.4417996406555176\n",
      "epoch 91, loss 0.44132518768310547\n",
      "epoch 92, loss 0.4408535063266754\n",
      "epoch 93, loss 0.4403819143772125\n",
      "epoch 94, loss 0.4399106502532959\n",
      "epoch 95, loss 0.4394385814666748\n",
      "epoch 96, loss 0.4389691948890686\n",
      "epoch 97, loss 0.4385001063346863\n",
      "epoch 98, loss 0.43803006410598755\n",
      "epoch 99, loss 0.43756183981895447\n",
      "epoch 100, loss 0.4370928704738617\n",
      "epoch 101, loss 0.4366261959075928\n",
      "epoch 102, loss 0.436157763004303\n",
      "epoch 103, loss 0.4356912076473236\n",
      "epoch 104, loss 0.4352238178253174\n",
      "epoch 105, loss 0.43475937843322754\n",
      "epoch 106, loss 0.43429359793663025\n",
      "epoch 107, loss 0.43382859230041504\n",
      "epoch 108, loss 0.43336421251296997\n",
      "epoch 109, loss 0.4329007565975189\n",
      "epoch 110, loss 0.4324372708797455\n",
      "epoch 111, loss 0.4319747984409332\n",
      "epoch 112, loss 0.43151283264160156\n",
      "epoch 113, loss 0.4310513138771057\n",
      "epoch 114, loss 0.43058839440345764\n",
      "epoch 115, loss 0.4301280379295349\n",
      "epoch 116, loss 0.42966794967651367\n",
      "epoch 117, loss 0.42920708656311035\n",
      "epoch 118, loss 0.4287481904029846\n",
      "epoch 119, loss 0.4282902777194977\n",
      "epoch 120, loss 0.42783108353614807\n",
      "epoch 121, loss 0.427372545003891\n",
      "epoch 122, loss 0.4269160330295563\n",
      "epoch 123, loss 0.4264587461948395\n",
      "epoch 124, loss 0.4260029196739197\n",
      "epoch 125, loss 0.4255467355251312\n",
      "epoch 126, loss 0.42509111762046814\n",
      "epoch 127, loss 0.4246366024017334\n",
      "epoch 128, loss 0.4241817891597748\n",
      "epoch 129, loss 0.42372679710388184\n",
      "epoch 130, loss 0.42327332496643066\n",
      "epoch 131, loss 0.4228206276893616\n",
      "epoch 132, loss 0.42236846685409546\n",
      "epoch 133, loss 0.42191657423973083\n",
      "epoch 134, loss 0.42146486043930054\n",
      "epoch 135, loss 0.4210144877433777\n",
      "epoch 136, loss 0.42056259512901306\n",
      "epoch 137, loss 0.4201135039329529\n",
      "epoch 138, loss 0.4196642339229584\n",
      "epoch 139, loss 0.41921406984329224\n",
      "epoch 140, loss 0.4187660217285156\n",
      "epoch 141, loss 0.4183166027069092\n",
      "epoch 142, loss 0.4178699851036072\n",
      "epoch 143, loss 0.4174225330352783\n",
      "epoch 144, loss 0.41697707772254944\n",
      "epoch 145, loss 0.41652947664260864\n",
      "epoch 146, loss 0.41608351469039917\n",
      "epoch 147, loss 0.41563767194747925\n",
      "epoch 148, loss 0.4151948094367981\n",
      "epoch 149, loss 0.4147498607635498\n",
      "epoch 150, loss 0.4143054485321045\n",
      "epoch 151, loss 0.4138622283935547\n",
      "epoch 152, loss 0.41341930627822876\n",
      "epoch 153, loss 0.412977397441864\n",
      "epoch 154, loss 0.41253575682640076\n",
      "epoch 155, loss 0.4120924472808838\n",
      "epoch 156, loss 0.41165122389793396\n",
      "epoch 157, loss 0.4112117290496826\n",
      "epoch 158, loss 0.41077232360839844\n",
      "epoch 159, loss 0.4103308320045471\n",
      "epoch 160, loss 0.4098924696445465\n",
      "epoch 161, loss 0.40945467352867126\n",
      "epoch 162, loss 0.40901556611061096\n",
      "epoch 163, loss 0.40857869386672974\n",
      "epoch 164, loss 0.40814071893692017\n",
      "epoch 165, loss 0.4077026844024658\n",
      "epoch 166, loss 0.40726789832115173\n",
      "epoch 167, loss 0.40683165192604065\n",
      "epoch 168, loss 0.40639549493789673\n",
      "epoch 169, loss 0.4059603810310364\n",
      "epoch 170, loss 0.40552735328674316\n",
      "epoch 171, loss 0.40509334206581116\n",
      "epoch 172, loss 0.40465912222862244\n",
      "epoch 173, loss 0.4042258858680725\n",
      "epoch 174, loss 0.40379324555397034\n",
      "epoch 175, loss 0.40336164832115173\n",
      "epoch 176, loss 0.40293043851852417\n",
      "epoch 177, loss 0.4024972915649414\n",
      "epoch 178, loss 0.40206748247146606\n",
      "epoch 179, loss 0.4016369879245758\n",
      "epoch 180, loss 0.4012080729007721\n",
      "epoch 181, loss 0.4007769227027893\n",
      "epoch 182, loss 0.40034836530685425\n",
      "epoch 183, loss 0.39991968870162964\n",
      "epoch 184, loss 0.3994922637939453\n",
      "epoch 185, loss 0.39906373620033264\n",
      "epoch 186, loss 0.3986375629901886\n",
      "epoch 187, loss 0.39821091294288635\n",
      "epoch 188, loss 0.39778563380241394\n",
      "epoch 189, loss 0.39735907316207886\n",
      "epoch 190, loss 0.3969339430332184\n",
      "epoch 191, loss 0.3965088725090027\n",
      "epoch 192, loss 0.3960842490196228\n",
      "epoch 193, loss 0.3956599533557892\n",
      "epoch 194, loss 0.3952380418777466\n",
      "epoch 195, loss 0.39481478929519653\n",
      "epoch 196, loss 0.39439064264297485\n",
      "epoch 197, loss 0.3939686715602875\n",
      "epoch 198, loss 0.3935469388961792\n",
      "epoch 199, loss 0.3931267261505127\n",
      "epoch 200, loss 0.39270561933517456\n",
      "epoch 201, loss 0.39228636026382446\n",
      "epoch 202, loss 0.3918650150299072\n",
      "epoch 203, loss 0.3914462924003601\n",
      "epoch 204, loss 0.39102813601493835\n",
      "epoch 205, loss 0.3906089663505554\n",
      "epoch 206, loss 0.3901917040348053\n",
      "epoch 207, loss 0.38977327942848206\n",
      "epoch 208, loss 0.38935571908950806\n",
      "epoch 209, loss 0.3889390528202057\n",
      "epoch 210, loss 0.3885229229927063\n",
      "epoch 211, loss 0.3881062865257263\n",
      "epoch 212, loss 0.38769251108169556\n",
      "epoch 213, loss 0.3872765898704529\n",
      "epoch 214, loss 0.38686251640319824\n",
      "epoch 215, loss 0.3864480257034302\n",
      "epoch 216, loss 0.38603466749191284\n",
      "epoch 217, loss 0.3856215476989746\n",
      "epoch 218, loss 0.38520848751068115\n",
      "epoch 219, loss 0.38479650020599365\n",
      "epoch 220, loss 0.3843846917152405\n",
      "epoch 221, loss 0.38397350907325745\n",
      "epoch 222, loss 0.38356274366378784\n",
      "epoch 223, loss 0.38315141201019287\n",
      "epoch 224, loss 0.3827417492866516\n",
      "epoch 225, loss 0.3823325037956238\n",
      "epoch 226, loss 0.38192227482795715\n",
      "epoch 227, loss 0.38151389360427856\n",
      "epoch 228, loss 0.3811049461364746\n",
      "epoch 229, loss 0.380697637796402\n",
      "epoch 230, loss 0.38028988242149353\n",
      "epoch 231, loss 0.3798838257789612\n",
      "epoch 232, loss 0.3794769048690796\n",
      "epoch 233, loss 0.37907013297080994\n",
      "epoch 234, loss 0.378665566444397\n",
      "epoch 235, loss 0.37825971841812134\n",
      "epoch 236, loss 0.37785467505455017\n",
      "epoch 237, loss 0.3774506449699402\n",
      "epoch 238, loss 0.37704604864120483\n",
      "epoch 239, loss 0.376642644405365\n",
      "epoch 240, loss 0.3762396574020386\n",
      "epoch 241, loss 0.3758370280265808\n",
      "epoch 242, loss 0.3754347860813141\n",
      "epoch 243, loss 0.3750331997871399\n",
      "epoch 244, loss 0.37463197112083435\n",
      "epoch 245, loss 0.37422996759414673\n",
      "epoch 246, loss 0.37382999062538147\n",
      "epoch 247, loss 0.37342995405197144\n",
      "epoch 248, loss 0.3730296492576599\n",
      "epoch 249, loss 0.37263092398643494\n",
      "epoch 250, loss 0.37223315238952637\n",
      "epoch 251, loss 0.3718340992927551\n",
      "epoch 252, loss 0.37143608927726746\n",
      "epoch 253, loss 0.3710384666919708\n",
      "epoch 254, loss 0.37064045667648315\n",
      "epoch 255, loss 0.37024563550949097\n",
      "epoch 256, loss 0.36984845995903015\n",
      "epoch 257, loss 0.3694528043270111\n",
      "epoch 258, loss 0.3690565526485443\n",
      "epoch 259, loss 0.36866146326065063\n",
      "epoch 260, loss 0.3682684004306793\n",
      "epoch 261, loss 0.3678743243217468\n",
      "epoch 262, loss 0.36748063564300537\n",
      "epoch 263, loss 0.36708730459213257\n",
      "epoch 264, loss 0.36669251322746277\n",
      "epoch 265, loss 0.3663005530834198\n",
      "epoch 266, loss 0.36590901017189026\n",
      "epoch 267, loss 0.3655173182487488\n",
      "epoch 268, loss 0.3651260733604431\n",
      "epoch 269, loss 0.36473435163497925\n",
      "epoch 270, loss 0.36434483528137207\n",
      "epoch 271, loss 0.36395543813705444\n",
      "epoch 272, loss 0.3635649085044861\n",
      "epoch 273, loss 0.3631763160228729\n",
      "epoch 274, loss 0.3627868890762329\n",
      "epoch 275, loss 0.3623993992805481\n",
      "epoch 276, loss 0.36201125383377075\n",
      "epoch 277, loss 0.36162465810775757\n",
      "epoch 278, loss 0.36123719811439514\n",
      "epoch 279, loss 0.3608507215976715\n",
      "epoch 280, loss 0.36046355962753296\n",
      "epoch 281, loss 0.36007899045944214\n",
      "epoch 282, loss 0.3596935272216797\n",
      "epoch 283, loss 0.3593081533908844\n",
      "epoch 284, loss 0.3589235246181488\n",
      "epoch 285, loss 0.35853925347328186\n",
      "epoch 286, loss 0.3581557273864746\n",
      "epoch 287, loss 0.35777291655540466\n",
      "epoch 288, loss 0.3573901057243347\n",
      "epoch 289, loss 0.3570057451725006\n",
      "epoch 290, loss 0.35662463307380676\n",
      "epoch 291, loss 0.35624298453330994\n",
      "epoch 292, loss 0.3558623492717743\n",
      "epoch 293, loss 0.35548049211502075\n",
      "epoch 294, loss 0.3551003336906433\n",
      "epoch 295, loss 0.3547208905220032\n",
      "epoch 296, loss 0.3543408513069153\n",
      "epoch 297, loss 0.3539621829986572\n",
      "epoch 298, loss 0.35358238220214844\n",
      "epoch 299, loss 0.3532032370567322\n",
      "epoch 300, loss 0.3528267443180084\n",
      "epoch 301, loss 0.3524487614631653\n",
      "epoch 302, loss 0.3520708978176117\n",
      "epoch 303, loss 0.3516954183578491\n",
      "epoch 304, loss 0.3513179123401642\n",
      "epoch 305, loss 0.350941926240921\n",
      "epoch 306, loss 0.35056647658348083\n",
      "epoch 307, loss 0.350191205739975\n",
      "epoch 308, loss 0.34981662034988403\n",
      "epoch 309, loss 0.3494419455528259\n",
      "epoch 310, loss 0.3490679860115051\n",
      "epoch 311, loss 0.3486940264701843\n",
      "epoch 312, loss 0.3483218252658844\n",
      "epoch 313, loss 0.3479492664337158\n",
      "epoch 314, loss 0.3475753366947174\n",
      "epoch 315, loss 0.3472041189670563\n",
      "epoch 316, loss 0.34683284163475037\n",
      "epoch 317, loss 0.34646064043045044\n",
      "epoch 318, loss 0.34609031677246094\n",
      "epoch 319, loss 0.34571897983551025\n",
      "epoch 320, loss 0.3453499972820282\n",
      "epoch 321, loss 0.3449793756008148\n",
      "epoch 322, loss 0.3446112275123596\n",
      "epoch 323, loss 0.34424227476119995\n",
      "epoch 324, loss 0.34387457370758057\n",
      "epoch 325, loss 0.3435060381889343\n",
      "epoch 326, loss 0.3431383967399597\n",
      "epoch 327, loss 0.34277015924453735\n",
      "epoch 328, loss 0.3424033224582672\n",
      "epoch 329, loss 0.34203845262527466\n",
      "epoch 330, loss 0.3416720926761627\n",
      "epoch 331, loss 0.34130629897117615\n",
      "epoch 332, loss 0.3409411311149597\n",
      "epoch 333, loss 0.3405762314796448\n",
      "epoch 334, loss 0.3402117192745209\n",
      "epoch 335, loss 0.33984607458114624\n",
      "epoch 336, loss 0.3394825756549835\n",
      "epoch 337, loss 0.3391198515892029\n",
      "epoch 338, loss 0.33875709772109985\n",
      "epoch 339, loss 0.33839350938796997\n",
      "epoch 340, loss 0.3380318284034729\n",
      "epoch 341, loss 0.3376704454421997\n",
      "epoch 342, loss 0.3373086154460907\n",
      "epoch 343, loss 0.33694830536842346\n",
      "epoch 344, loss 0.3365868031978607\n",
      "epoch 345, loss 0.3362273573875427\n",
      "epoch 346, loss 0.3358670473098755\n",
      "epoch 347, loss 0.33550867438316345\n",
      "epoch 348, loss 0.33514854311943054\n",
      "epoch 349, loss 0.334789901971817\n",
      "epoch 350, loss 0.33443087339401245\n",
      "epoch 351, loss 0.3340744078159332\n",
      "epoch 352, loss 0.3337164521217346\n",
      "epoch 353, loss 0.33335912227630615\n",
      "epoch 354, loss 0.333001971244812\n",
      "epoch 355, loss 0.33264559507369995\n",
      "epoch 356, loss 0.33228954672813416\n",
      "epoch 357, loss 0.3319338262081146\n",
      "epoch 358, loss 0.33157891035079956\n",
      "epoch 359, loss 0.33122435212135315\n",
      "epoch 360, loss 0.330868661403656\n",
      "epoch 361, loss 0.3305145800113678\n",
      "epoch 362, loss 0.3301614820957184\n",
      "epoch 363, loss 0.3298087418079376\n",
      "epoch 364, loss 0.329454630613327\n",
      "epoch 365, loss 0.32910239696502686\n",
      "epoch 366, loss 0.3287510871887207\n",
      "epoch 367, loss 0.32839855551719666\n",
      "epoch 368, loss 0.3280477225780487\n",
      "epoch 369, loss 0.3276957869529724\n",
      "epoch 370, loss 0.3273444175720215\n",
      "epoch 371, loss 0.32699495553970337\n",
      "epoch 372, loss 0.32664498686790466\n",
      "epoch 373, loss 0.3262949585914612\n",
      "epoch 374, loss 0.3259468674659729\n",
      "epoch 375, loss 0.32559725642204285\n",
      "epoch 376, loss 0.3252488672733307\n",
      "epoch 377, loss 0.32490089535713196\n",
      "epoch 378, loss 0.3245526850223541\n",
      "epoch 379, loss 0.324205219745636\n",
      "epoch 380, loss 0.3238583207130432\n",
      "epoch 381, loss 0.3235122263431549\n",
      "epoch 382, loss 0.3231655955314636\n",
      "epoch 383, loss 0.32281962037086487\n",
      "epoch 384, loss 0.32247477769851685\n",
      "epoch 385, loss 0.32212966680526733\n",
      "epoch 386, loss 0.3217840790748596\n",
      "epoch 387, loss 0.3214400112628937\n",
      "epoch 388, loss 0.3210967779159546\n",
      "epoch 389, loss 0.3207520842552185\n",
      "epoch 390, loss 0.32040920853614807\n",
      "epoch 391, loss 0.32006552815437317\n",
      "epoch 392, loss 0.3197234272956848\n",
      "epoch 393, loss 0.31938061118125916\n",
      "epoch 394, loss 0.3190400004386902\n",
      "epoch 395, loss 0.3186980187892914\n",
      "epoch 396, loss 0.3183562159538269\n",
      "epoch 397, loss 0.318016916513443\n",
      "epoch 398, loss 0.31767597794532776\n",
      "epoch 399, loss 0.31733566522598267\n",
      "epoch 400, loss 0.3169955015182495\n",
      "epoch 401, loss 0.31665605306625366\n",
      "epoch 402, loss 0.31631866097450256\n",
      "epoch 403, loss 0.3159804940223694\n",
      "epoch 404, loss 0.3156418800354004\n",
      "epoch 405, loss 0.31530439853668213\n",
      "epoch 406, loss 0.31496676802635193\n",
      "epoch 407, loss 0.3146279454231262\n",
      "epoch 408, loss 0.3142915368080139\n",
      "epoch 409, loss 0.3139558434486389\n",
      "epoch 410, loss 0.3136197030544281\n",
      "epoch 411, loss 0.3132847845554352\n",
      "epoch 412, loss 0.3129485845565796\n",
      "epoch 413, loss 0.31261351704597473\n",
      "epoch 414, loss 0.3122785687446594\n",
      "epoch 415, loss 0.3119449019432068\n",
      "epoch 416, loss 0.31161195039749146\n",
      "epoch 417, loss 0.311277836561203\n",
      "epoch 418, loss 0.3109439015388489\n",
      "epoch 419, loss 0.3106114864349365\n",
      "epoch 420, loss 0.3102792203426361\n",
      "epoch 421, loss 0.30994781851768494\n",
      "epoch 422, loss 0.30961552262306213\n",
      "epoch 423, loss 0.3092842698097229\n",
      "epoch 424, loss 0.308952271938324\n",
      "epoch 425, loss 0.3086214065551758\n",
      "epoch 426, loss 0.3082926869392395\n",
      "epoch 427, loss 0.3079630136489868\n",
      "epoch 428, loss 0.3076332211494446\n",
      "epoch 429, loss 0.30730366706848145\n",
      "epoch 430, loss 0.30697521567344666\n",
      "epoch 431, loss 0.30664655566215515\n",
      "epoch 432, loss 0.306316614151001\n",
      "epoch 433, loss 0.3059895634651184\n",
      "epoch 434, loss 0.3056623935699463\n",
      "epoch 435, loss 0.3053353428840637\n",
      "epoch 436, loss 0.3050091862678528\n",
      "epoch 437, loss 0.3046816885471344\n",
      "epoch 438, loss 0.30435577034950256\n",
      "epoch 439, loss 0.30402904748916626\n",
      "epoch 440, loss 0.3037046790122986\n",
      "epoch 441, loss 0.3033788800239563\n",
      "epoch 442, loss 0.30305466055870056\n",
      "epoch 443, loss 0.3027298152446747\n",
      "epoch 444, loss 0.30240678787231445\n",
      "epoch 445, loss 0.3020826578140259\n",
      "epoch 446, loss 0.30175867676734924\n",
      "epoch 447, loss 0.30143672227859497\n",
      "epoch 448, loss 0.3011138439178467\n",
      "epoch 449, loss 0.3007914125919342\n",
      "epoch 450, loss 0.3004690110683441\n",
      "epoch 451, loss 0.30014750361442566\n",
      "epoch 452, loss 0.299827516078949\n",
      "epoch 453, loss 0.2995068430900574\n",
      "epoch 454, loss 0.2991862893104553\n",
      "epoch 455, loss 0.2988660931587219\n",
      "epoch 456, loss 0.2985447347164154\n",
      "epoch 457, loss 0.2982249855995178\n",
      "epoch 458, loss 0.29790639877319336\n",
      "epoch 459, loss 0.2975875735282898\n",
      "epoch 460, loss 0.29726919531822205\n",
      "epoch 461, loss 0.2969518303871155\n",
      "epoch 462, loss 0.29663294553756714\n",
      "epoch 463, loss 0.2963156998157501\n",
      "epoch 464, loss 0.2959977686405182\n",
      "epoch 465, loss 0.29568180441856384\n",
      "epoch 466, loss 0.2953660786151886\n",
      "epoch 467, loss 0.2950493097305298\n",
      "epoch 468, loss 0.2947327196598053\n",
      "epoch 469, loss 0.2944180369377136\n",
      "epoch 470, loss 0.29410281777381897\n",
      "epoch 471, loss 0.29378873109817505\n",
      "epoch 472, loss 0.2934738099575043\n",
      "epoch 473, loss 0.29315975308418274\n",
      "epoch 474, loss 0.2928454279899597\n",
      "epoch 475, loss 0.2925318479537964\n",
      "epoch 476, loss 0.2922203838825226\n",
      "epoch 477, loss 0.29190701246261597\n",
      "epoch 478, loss 0.2915942966938019\n",
      "epoch 479, loss 0.29128220677375793\n",
      "epoch 480, loss 0.29097020626068115\n",
      "epoch 481, loss 0.2906595468521118\n",
      "epoch 482, loss 0.29034844040870667\n",
      "epoch 483, loss 0.2900362014770508\n",
      "epoch 484, loss 0.289726197719574\n",
      "epoch 485, loss 0.2894166111946106\n",
      "epoch 486, loss 0.28910699486732483\n",
      "epoch 487, loss 0.2887973189353943\n",
      "epoch 488, loss 0.28848809003829956\n",
      "epoch 489, loss 0.28817957639694214\n",
      "epoch 490, loss 0.2878704369068146\n",
      "epoch 491, loss 0.2875630855560303\n",
      "epoch 492, loss 0.28725436329841614\n",
      "epoch 493, loss 0.2869475483894348\n",
      "epoch 494, loss 0.2866402864456177\n",
      "epoch 495, loss 0.2863345742225647\n",
      "epoch 496, loss 0.286027729511261\n",
      "epoch 497, loss 0.2857206165790558\n",
      "epoch 498, loss 0.28541630506515503\n",
      "epoch 499, loss 0.28510981798171997\n",
      "epoch 500, loss 0.2848052978515625\n"
     ]
    }
   ],
   "source": [
    "epochs = 500\n",
    "\n",
    "for epoch in range(epochs):\n",
    "    epoch += 1\n",
    "    #Convert inputs and outputs to torch variable\n",
    "    inputs = Variable(torch.from_numpy(x_train))\n",
    "    \n",
    "    real_outputs = Variable(torch.from_numpy(y_train))\n",
    "    \n",
    "    # Reset Gradients\n",
    "    optimizer.zero_grad()\n",
    "    \n",
    "    # Forward - compute the output\n",
    "    pred_outputs = model(inputs)\n",
    "    \n",
    "    # Loss\n",
    "    loss = loss_function(pred_outputs, real_outputs)\n",
    "    \n",
    "    # Backword - compute gradients\n",
    "    loss.backward()\n",
    "    \n",
    "    # Update parameters\n",
    "    optimizer.step()\n",
    "    \n",
    "    #print('epoch {}, loss {}'.format(epoch, loss.data[0]))\n",
    "    print('epoch {}, loss {}'.format(epoch, loss.data.item()))\n",
    "    \n",
    "    "
   ]
  },
  {
   "cell_type": "code",
   "execution_count": null,
   "metadata": {},
   "outputs": [],
   "source": []
  }
 ],
 "metadata": {
  "kernelspec": {
   "display_name": "Python 3.10",
   "language": "python",
   "name": "python3"
  },
  "language_info": {
   "codemirror_mode": {
    "name": "ipython",
    "version": 3
   },
   "file_extension": ".py",
   "mimetype": "text/x-python",
   "name": "python",
   "nbconvert_exporter": "python",
   "pygments_lexer": "ipython3",
   "version": "3.10.9"
  }
 },
 "nbformat": 4,
 "nbformat_minor": 1
}
