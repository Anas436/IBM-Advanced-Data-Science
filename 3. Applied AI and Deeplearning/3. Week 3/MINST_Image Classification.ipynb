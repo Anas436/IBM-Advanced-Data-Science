{
 "cells": [
  {
   "cell_type": "code",
   "execution_count": 1,
   "metadata": {},
   "outputs": [
    {
     "name": "stdout",
     "output_type": "stream",
     "text": [
      "x_train shape: (60000, 28, 28, 1)\n",
      "60000 train samples\n",
      "10000 test samples\n"
     ]
    }
   ],
   "source": [
    "'''Trains a simple convnet on the MNIST dataset.\n",
    "\n",
    "Gets to 99.25% test accuracy after 12 epochs\n",
    "(there is still a lot of margin for parameter tuning).\n",
    "16 seconds per epoch on a GRID K520 GPU.\n",
    "'''\n",
    "\n",
    "from __future__ import print_function\n",
    "import keras\n",
    "from keras.datasets import mnist\n",
    "from keras.models import Sequential\n",
    "from keras.layers import Dense, Dropout, Flatten\n",
    "from keras.layers import Conv2D, MaxPooling2D\n",
    "from keras import backend as K\n",
    "\n",
    "batch_size = 128\n",
    "num_classes = 10\n",
    "epochs = 12\n",
    "\n",
    "# input image dimensions\n",
    "img_rows, img_cols = 28, 28\n",
    "\n",
    "# the data, shuffled and split between train and test sets\n",
    "(x_train, y_train), (x_test, y_test) = mnist.load_data()\n",
    "\n",
    "if K.image_data_format() == 'channels_first':\n",
    "    x_train = x_train.reshape(x_train.shape[0], 1, img_rows, img_cols)\n",
    "    x_test = x_test.reshape(x_test.shape[0], 1, img_rows, img_cols)\n",
    "    input_shape = (1, img_rows, img_cols)\n",
    "else:\n",
    "    x_train = x_train.reshape(x_train.shape[0], img_rows, img_cols, 1)\n",
    "    x_test = x_test.reshape(x_test.shape[0], img_rows, img_cols, 1)\n",
    "    input_shape = (img_rows, img_cols, 1)\n",
    "\n",
    "x_train = x_train.astype('float32')\n",
    "x_test = x_test.astype('float32')\n",
    "x_train /= 255\n",
    "x_test /= 255\n",
    "print('x_train shape:', x_train.shape)\n",
    "print(x_train.shape[0], 'train samples')\n",
    "print(x_test.shape[0], 'test samples')\n",
    "\n",
    "# convert class vectors to binary class matrices\n",
    "y_train = keras.utils.to_categorical(y_train, num_classes)\n",
    "y_test = keras.utils.to_categorical(y_test, num_classes)"
   ]
  },
  {
   "cell_type": "code",
   "execution_count": 2,
   "metadata": {},
   "outputs": [],
   "source": [
    "\n",
    "\n",
    "#Please construct the following neural network and report accuracy after training\n",
    "#Layer 1: 2D Convolution with 32 hidden neurons, kernel 3 by 3, relu activation (Note: input_shape is given)\n",
    "#Layer 2: 2D Convolution with 64 hidden neurons, kernel 3 by 3, relu activation \n",
    "#Layer 3: 2D MaxPooling, pool_size 2 by 2\n",
    "#Layer 4: 25% Dropout\n",
    "#Layer 5: Flatten (Hint: model.add(Flatten()))\n",
    "#Layer 6: Fully connected layer with 128 neurons, relu activation\n",
    "#Layer 7: 50% Dropout\n",
    "#Layer 8 Softmax Output Layer according to the problem (output vector)\n",
    "\n",
    "\n",
    "model = Sequential()\n",
    "#your_code_goes_here\n",
    "model.add(Conv2D(32, kernel_size=(3,3), activation='relu', input_shape=input_shape))\n",
    "model.add(Conv2D(64, (3,3), activation='relu'))\n",
    "model.add(MaxPooling2D(pool_size=(2,2)))\n",
    "model.add(Dropout(0.25))\n",
    "model.add(Flatten())\n",
    "model.add(Dense(128, activation=\"relu\"))\n",
    "model.add(Dropout(0.50))\n",
    "model.add(Dense(num_classes, activation='softmax'))"
   ]
  },
  {
   "cell_type": "code",
   "execution_count": 3,
   "metadata": {},
   "outputs": [
    {
     "name": "stdout",
     "output_type": "stream",
     "text": [
      "Epoch 1/12\n",
      "469/469 [==============================] - 109s 230ms/step - loss: 2.2896 - accuracy: 0.1440 - val_loss: 2.2650 - val_accuracy: 0.2620\n",
      "Epoch 2/12\n",
      "469/469 [==============================] - 130s 277ms/step - loss: 2.2495 - accuracy: 0.2390 - val_loss: 2.2156 - val_accuracy: 0.4883\n",
      "Epoch 3/12\n",
      "469/469 [==============================] - 136s 289ms/step - loss: 2.1965 - accuracy: 0.3414 - val_loss: 2.1474 - val_accuracy: 0.6008\n",
      "Epoch 4/12\n",
      "469/469 [==============================] - 126s 268ms/step - loss: 2.1242 - accuracy: 0.4293 - val_loss: 2.0542 - val_accuracy: 0.6614\n",
      "Epoch 5/12\n",
      "469/469 [==============================] - 128s 272ms/step - loss: 2.0236 - accuracy: 0.4925 - val_loss: 1.9254 - val_accuracy: 0.7022\n",
      "Epoch 6/12\n",
      "469/469 [==============================] - 119s 253ms/step - loss: 1.8917 - accuracy: 0.5403 - val_loss: 1.7542 - val_accuracy: 0.7328\n",
      "Epoch 7/12\n",
      "469/469 [==============================] - 115s 246ms/step - loss: 1.7288 - accuracy: 0.5767 - val_loss: 1.5512 - val_accuracy: 0.7595\n",
      "Epoch 8/12\n",
      "469/469 [==============================] - 140s 298ms/step - loss: 1.5496 - accuracy: 0.6109 - val_loss: 1.3413 - val_accuracy: 0.7779\n",
      "Epoch 9/12\n",
      "469/469 [==============================] - 137s 292ms/step - loss: 1.3834 - accuracy: 0.6357 - val_loss: 1.1528 - val_accuracy: 0.7983\n",
      "Epoch 10/12\n",
      "469/469 [==============================] - 116s 247ms/step - loss: 1.2391 - accuracy: 0.6603 - val_loss: 0.9986 - val_accuracy: 0.8163\n",
      "Epoch 11/12\n",
      "469/469 [==============================] - 131s 280ms/step - loss: 1.1278 - accuracy: 0.6796 - val_loss: 0.8798 - val_accuracy: 0.8287\n",
      "Epoch 12/12\n",
      "469/469 [==============================] - 131s 279ms/step - loss: 1.0374 - accuracy: 0.6981 - val_loss: 0.7888 - val_accuracy: 0.8366\n",
      "Test loss: 0.7888054847717285\n",
      "Test accuracy: 0.8366000056266785\n"
     ]
    }
   ],
   "source": [
    "model.compile(loss=keras.losses.categorical_crossentropy,\n",
    "              optimizer=keras.optimizers.Adadelta(),\n",
    "              metrics=['accuracy'])\n",
    "\n",
    "#some learners constantly reported 502 errors in Watson Studio. \n",
    "#This is due to the limited resources in the free tier and the heavy resource consumption of Keras.\n",
    "#This is a workaround to limit resource consumption\n",
    "\n",
    "from keras import backend as K\n",
    "\n",
    "#K.set_session(K.tf.Session(config=K.tf.ConfigProto(intra_op_parallelism_threads=1, inter_op_parallelism_threads=1)))\n",
    "K.set_session(K.tf.compat.v1.Session(config=K.tf.compat.v1.ConfigProto(intra_op_parallelism_threads=1, inter_op_parallelism_threads=1)))\n",
    "model.fit(x_train, y_train,\n",
    "          batch_size=batch_size,\n",
    "          epochs=epochs,\n",
    "          verbose=1,\n",
    "          validation_data=(x_test, y_test))\n",
    "score = model.evaluate(x_test, y_test, verbose=0)\n",
    "print('Test loss:', score[0])\n",
    "print('Test accuracy:', score[1])\n"
   ]
  },
  {
   "cell_type": "code",
   "execution_count": null,
   "metadata": {},
   "outputs": [],
   "source": []
  }
 ],
 "metadata": {
  "kernelspec": {
   "display_name": "Python 3 (ipykernel)",
   "language": "python",
   "name": "python3"
  },
  "language_info": {
   "codemirror_mode": {
    "name": "ipython",
    "version": 3
   },
   "file_extension": ".py",
   "mimetype": "text/x-python",
   "name": "python",
   "nbconvert_exporter": "python",
   "pygments_lexer": "ipython3",
   "version": "3.9.13"
  }
 },
 "nbformat": 4,
 "nbformat_minor": 4
}
